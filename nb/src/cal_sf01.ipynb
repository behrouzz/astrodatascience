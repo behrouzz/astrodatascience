{
 "cells": [
  {
   "cell_type": "code",
   "execution_count": 1,
   "id": "1159d64e",
   "metadata": {},
   "outputs": [
    {
     "name": "stdout",
     "output_type": "stream",
     "text": [
      "1.0\n"
     ]
    }
   ],
   "source": [
    "# Hubbble contant ((km/s) / Mpc)\n",
    "H0 = 67.66\n",
    "\n",
    "# Hubbble contant convert to (1 / Gyr)\n",
    "H0 = H0 * 0.00102271\n",
    "\n",
    "# Density parameter of radiation\n",
    "Or0 = 0.0014936944554559174\n",
    "\n",
    "# Density parameter of matter\n",
    "Om0 = 0.30966\n",
    "\n",
    "# Density parameter of dark energy\n",
    "Ode0 = 0.6888463055445441\n",
    "\n",
    "# Total density parameter\n",
    "Oall0 = Or0 + Om0 + Ode0\n",
    "print(Oall0)"
   ]
  }
 ],
 "metadata": {
  "kernelspec": {
   "display_name": "Python 3 (ipykernel)",
   "language": "python",
   "name": "python3"
  },
  "language_info": {
   "codemirror_mode": {
    "name": "ipython",
    "version": 3
   },
   "file_extension": ".py",
   "mimetype": "text/x-python",
   "name": "python",
   "nbconvert_exporter": "python",
   "pygments_lexer": "ipython3",
   "version": "3.8.10"
  }
 },
 "nbformat": 4,
 "nbformat_minor": 5
}
