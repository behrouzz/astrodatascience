{
 "cells": [
  {
   "cell_type": "code",
   "execution_count": 3,
   "id": "80cb53fe",
   "metadata": {},
   "outputs": [
    {
     "data": {
      "text/latex": [
       "$\\displaystyle 7.20942087754289 \\cdot 10^{-12} t^{9} - 1.1130043392128 \\cdot 10^{-9} t^{8} + 7.289873288699 \\cdot 10^{-8} t^{7} - 2.63960635079337 \\cdot 10^{-6} t^{6} + 5.77554731935965 \\cdot 10^{-5} t^{5} - 0.000785177786841648 t^{4} + 0.00664667391399752 t^{3} - 0.0341129607164939 t^{2} + 0.159358402006829 t + 0.0201634685301396$"
      ],
      "text/plain": [
       "7.20942087754289e-12*t**9 - 1.1130043392128e-9*t**8 + 7.289873288699e-8*t**7 - 2.63960635079337e-6*t**6 + 5.77554731935965e-5*t**5 - 0.000785177786841648*t**4 + 0.00664667391399752*t**3 - 0.0341129607164939*t**2 + 0.159358402006829*t + 0.0201634685301396"
      ]
     },
     "execution_count": 3,
     "metadata": {},
     "output_type": "execute_result"
    }
   ],
   "source": [
    "# Polynomial coefficients\n",
    "coefs = np.polyfit(t, a, 9)\n",
    "\n",
    "# scale_factor as one-dimensional polynomial class\n",
    "scale_factor = np.poly1d(coefs)\n",
    "\n",
    "# Show scale_factor as polynomial expression (latex)\n",
    "import sympy as sp\n",
    "from sympy.abc import t\n",
    "sp.Poly(scale_factor.coef,t).as_expr()"
   ]
  }
 ],
 "metadata": {
  "kernelspec": {
   "display_name": "Python 3 (ipykernel)",
   "language": "python",
   "name": "python3"
  },
  "language_info": {
   "codemirror_mode": {
    "name": "ipython",
    "version": 3
   },
   "file_extension": ".py",
   "mimetype": "text/x-python",
   "name": "python",
   "nbconvert_exporter": "python",
   "pygments_lexer": "ipython3",
   "version": "3.8.10"
  }
 },
 "nbformat": 4,
 "nbformat_minor": 5
}
