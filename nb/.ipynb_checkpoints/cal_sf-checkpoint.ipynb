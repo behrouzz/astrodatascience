{
 "cells": [
  {
   "cell_type": "markdown",
   "id": "16f812cd",
   "metadata": {},
   "source": [
    "# Calculating scale factor\n",
    "## Friedmann equation\n",
    "\n",
    "The Friedmann equation for a universe consisting of radiation, matter and dark energy can be written in the following form:\n",
    "\n",
    "\\begin{equation}\n",
    "\\Large\n",
    "\\frac{H^2}{H_{0}^2}=\\frac{\\Omega _{r,0}}{a^{4}}+\\frac{\\Omega _{m,0}}{a^{3}}+\\Omega _{\\Lambda,0}+\\frac{1-\\Omega _{0}}{a^{2}}\n",
    "\\end{equation}\n",
    "\n",
    "In this equation, $a$ is the scale factor as a function of time; $H$ is the Hubble parameter which is a function of time, and $H_{0}$ is the Hubble constant - the Hubble parameter in our time. The relation between Hubble parameter and scale factor is simply $H=\\dot{a}/a$.\n",
    "\n",
    "$\\Omega _{r,0}$, $\\Omega _{m,0}$ and $\\Omega _{\\Lambda,0}$ are density parameters of radiation, matter and dark energy in our epoch. The total density parameter $\\Omega _{0}$ is defined as:\n",
    "\n",
    "\\begin{equation}\n",
    "\\Large\n",
    "\\Omega _{0} = \\Omega _{r,0} + \\Omega _{m,0} + \\Omega _{\\Lambda,0}\n",
    "\\end{equation}\n",
    "\n",
    "For a flat universe $\\Omega _{0}=1$. Rearranging the equation, we find time $t$ as a function of scale factor $a$:\n",
    "\n",
    "\\begin{equation}\n",
    "\\Large\n",
    "\\int_{0}^{a}\\frac{\\mathrm{d} a}{\\sqrt{\\frac{\\Omega _{r,0}}{a^{2}}+\\frac{\\Omega _{m,0}}{a}+a^{2}\\Omega _{\\Lambda,0}}}=H_{0}t\n",
    "\\end{equation}\n",
    "\n",
    "This equation gives us $t$ in terms of $a$. But we need $a$ as a function of $t$. Unfortunately, this integral can not be solved mathematically. Here, we are going to solve it numerically.\n",
    "\n",
    "Befor solving the equation, we need to know the values of $\\Omega _{r,0}$, $\\Omega _{m,0}$ and $\\Omega _{\\Lambda,0}$. According to [Planck final results](https://en.wikipedia.org/wiki/Planck_(spacecraft)#2018_final_data_release), released in 2018, we know:\n",
    "\n",
    "\\begin{align*}\n",
    "H_{0} = 67.66 \\: \\frac{km/s}{Mpc}\n",
    "\\end{align*}\n",
    "\n",
    "\\begin{equation}\n",
    "\\Omega _{photon,0} = 5.402015137139351 \\times 10^{-5}\n",
    "\\end{equation}\n",
    "\n",
    "\\begin{equation}\n",
    "\\Omega _{neutrino,0} = 0.0014396743040845238\n",
    "\\end{equation}\n",
    "\n",
    "\\begin{equation}\n",
    "\\Omega _{baryon,0} = 0.04897\n",
    "\\end{equation}\n",
    "\n",
    "\\begin{equation}\n",
    "\\Omega _{non-baryon,0} = 0.26069\n",
    "\\end{equation}\n",
    "\n",
    "\\begin{equation}\n",
    "\\Omega _{\\Lambda,0} = 0.6888463055445441\n",
    "\\end{equation}\n",
    "\n",
    "Density parameter of radiation is the sum of density parameters of photos and neutrinos:\n",
    "\n",
    "\\begin{equation}\n",
    "\\Omega _{r,0} = \\Omega _{photon,0} + \\Omega _{neutrino,0} \\\\\n",
    "= 5.402015137139351 \\times 10^{-5} + 0.0014396743040845238 \\\\\n",
    "= 0.0014936944554559174\n",
    "\\end{equation}\n",
    "\n",
    "Density parameter of matter is the sum of density parameters of baryonic matter and non-baryonic (dark) matter:\n",
    "\n",
    "\\begin{equation}\n",
    "\\Omega _{m,0} = \\Omega _{baryon,0} + \\Omega _{non-baryon,0} \\\\\n",
    "= 0.04897 + 0.26069 \\\\\n",
    "= 0.30966\n",
    "\\end{equation}"
   ]
  },
  {
   "cell_type": "code",
   "execution_count": 1,
   "id": "1159d64e",
   "metadata": {},
   "outputs": [
    {
     "name": "stdout",
     "output_type": "stream",
     "text": [
      "1.0\n"
     ]
    }
   ],
   "source": [
    "import numpy as np\n",
    "import scipy.integrate as integrate\n",
    "import matplotlib.pyplot as plt\n",
    "\n",
    "# Hubbble contant ((km/s) / Mpc)\n",
    "H0 = 67.66\n",
    "\n",
    "# Hubbble contant convert to (1 / Gyr)\n",
    "H0 = H0 * 0.00102271\n",
    "\n",
    "# Density parameter of radiation\n",
    "Or0 = 0.0014936944554559174\n",
    "\n",
    "# Density parameter of matter\n",
    "Om0 = 0.30966\n",
    "\n",
    "# Density parameter of dark energy\n",
    "Ode0 = 0.6888463055445441\n",
    "\n",
    "# Total density parameter\n",
    "Oall0 = Or0 + Om0 + Ode0\n",
    "print(Oall0)"
   ]
  },
  {
   "cell_type": "markdown",
   "id": "319155f7",
   "metadata": {},
   "source": [
    "As you can see, $\\Omega _{0}=1$, so we can say that the universe is flat and we can simply ignore the last term in the first equation.\n",
    "\n",
    "Now, we should first take a range of evenly spaced numbers to represent $a$ and then calculate $t$. In order to do this, The `np.linspace` function defindes a range of numbers. Let's say we want to define 5000 numbers between 0 to 3, as the scale factor. Instead of 0, we'll use a number close to zero, such as $10^{-10}$, to prevent the *division by zero* error."
   ]
  },
  {
   "cell_type": "code",
   "execution_count": 2,
   "id": "afdc0614",
   "metadata": {},
   "outputs": [],
   "source": [
    "a = np.linspace(1e-10, 3, 5000)"
   ]
  },
  {
   "cell_type": "markdown",
   "id": "c0f9f422",
   "metadata": {},
   "source": [
    "In order to calculate $t$, we should first calculate the expression in the integral. Since it is a function of $a$, we have to define a function. Let's call it `expr`. Then we'll use `integrate` from *scipy* to calculate $t$."
   ]
  },
  {
   "cell_type": "code",
   "execution_count": 3,
   "id": "4a64f010",
   "metadata": {},
   "outputs": [],
   "source": [
    "# Calculate the term in the integral\n",
    "expr = lambda a: 1 / np.sqrt(Or0/a**2 + Om0/a + Ode0*a**2)\n",
    "\n",
    "# Calculate t\n",
    "t = np.array([integrate.quad(expr, 0, i)[0]/H0 for i in a])"
   ]
  },
  {
   "cell_type": "markdown",
   "id": "0c0e02f3",
   "metadata": {},
   "source": [
    "Now we have a range of points for $a$ and the corresponding points for $t$. We can see the relation between them in the following plot."
   ]
  },
  {
   "cell_type": "code",
   "execution_count": 4,
   "id": "b8f9d8fa",
   "metadata": {},
   "outputs": [
    {
     "data": {
      "image/png": "[encoded data removed]",
      "text/plain": [
       "<Figure size 432x288 with 1 Axes>"
      ]
     },
     "metadata": {
      "needs_background": "light"
     },
     "output_type": "display_data"
    }
   ],
   "source": [
    "plt.plot(t, a)\n",
    "plt.xlabel('Time since Big Bang (Billion Years)')\n",
    "plt.ylabel('Scale Factor')\n",
    "plt.show()"
   ]
  },
  {
   "cell_type": "markdown",
   "id": "38a260d6",
   "metadata": {},
   "source": [
    "For example, if you take the current age of the universe (13.8 billion years), you can see that the corresponding scale factor is 1, which is correct. Not bad! But this relation does not help us because we need the relation between $a$ and $t$ as as function, not as ranges of points.\n",
    "\n",
    "To find $a$ as function of $t$, a good method would be to use polynomial fit. We use `np.polyfit` and `np.poly1d` functions from *numpy* for this reason. We should pass our desired *degree of the fitting polynomial* to `np.polyfit`, Let's give it 9. You can increase this number, but you'll have to wait more! After calculating polynomial coefficients, we pass them to `np.poly1d` to create a *one-dimensional polynomial class*, which behaves like a function."
   ]
  },
  {
   "cell_type": "code",
   "execution_count": 5,
   "id": "80cb53fe",
   "metadata": {},
   "outputs": [],
   "source": [
    "# Polynomial coefficients\n",
    "coefs = np.polyfit(t, a, 9)\n",
    "\n",
    "# scale_factor as one-dimensional polynomial class\n",
    "scale_factor = np.poly1d(coefs)"
   ]
  },
  {
   "cell_type": "markdown",
   "id": "01a31653",
   "metadata": {},
   "source": [
    "Now `scale_factor` is a *one-dimensional polynomial class* which is our final function. We can print it to see the full expression:"
   ]
  },
  {
   "cell_type": "code",
   "execution_count": 6,
   "id": "42719e6a",
   "metadata": {},
   "outputs": [
    {
     "name": "stdout",
     "output_type": "stream",
     "text": [
      "           9             8            7            6             5\n",
      "7.209e-12 x - 1.113e-09 x + 7.29e-08 x - 2.64e-06 x + 5.776e-05 x\n",
      "              4            3           2\n",
      " - 0.0007852 x + 0.006647 x - 0.03411 x + 0.1594 x + 0.02016\n"
     ]
    }
   ],
   "source": [
    "print(scale_factor)"
   ]
  },
  {
   "cell_type": "markdown",
   "id": "03518b0a",
   "metadata": {},
   "source": [
    "We can also pass it a $t$ (in billion years) to find the corresponding $a$. For example, let's pass it the current age of the universe:"
   ]
  },
  {
   "cell_type": "code",
   "execution_count": 7,
   "id": "98e8d81b",
   "metadata": {},
   "outputs": [
    {
     "data": {
      "text/plain": [
       "1.0044483721715087"
      ]
     },
     "execution_count": 7,
     "metadata": {},
     "output_type": "execute_result"
    }
   ],
   "source": [
    "scale_factor(13.8)"
   ]
  },
  {
   "cell_type": "markdown",
   "id": "b965250f",
   "metadata": {},
   "source": [
    "A nice advantage of using `np.poly1d` is that we can simply use its `deriv` method to calculate the derivative of this polynomial. Let's find the first derivative of our `scale_factor`:"
   ]
  },
  {
   "cell_type": "code",
   "execution_count": 8,
   "id": "22aa25af",
   "metadata": {},
   "outputs": [
    {
     "name": "stdout",
     "output_type": "stream",
     "text": [
      "           8             7             6             5             4\n",
      "6.488e-11 x - 8.904e-09 x + 5.103e-07 x - 1.584e-05 x + 0.0002888 x\n",
      "             3           2\n",
      " - 0.003141 x + 0.01994 x - 0.06823 x + 0.1594\n"
     ]
    }
   ],
   "source": [
    "print(scale_factor.deriv(1))"
   ]
  },
  {
   "cell_type": "code",
   "execution_count": 9,
   "id": "8445a319",
   "metadata": {},
   "outputs": [],
   "source": [
    "tt = np.linspace(1e-10, 30)\n",
    "aa = scale_factor(tt)\n",
    "aa_dot = scale_factor.deriv(1)(tt)"
   ]
  },
  {
   "cell_type": "code",
   "execution_count": 10,
   "id": "a572fd78",
   "metadata": {},
   "outputs": [
    {
     "data": {
      "image/png": "[encoded data removed]",
      "text/plain": [
       "<Figure size 1080x360 with 2 Axes>"
      ]
     },
     "metadata": {
      "needs_background": "light"
     },
     "output_type": "display_data"
    }
   ],
   "source": [
    "fig, ax = plt.subplots(1,2, figsize=(15,5))\n",
    "\n",
    "ax[0].plot(tt, aa)\n",
    "ax[1].plot(tt, aa_dot)\n",
    "\n",
    "ax[0].set_xlabel('Time since Big Bang (Billion Years)')\n",
    "ax[0].set_ylabel('Scale Factor')\n",
    "ax[0].grid()\n",
    "\n",
    "ax[1].set_xlabel('Time since Big Bang (Billion Years)')\n",
    "ax[1].set_ylabel('Derivative of scale factor')\n",
    "ax[1].grid()\n",
    "\n",
    "plt.show()"
   ]
  },
  {
   "cell_type": "markdown",
   "id": "29be2c45",
   "metadata": {},
   "source": [
    "Derivative of scale factor has always been positive."
   ]
  },
  {
   "cell_type": "code",
   "execution_count": 9,
   "id": "fed5e735",
   "metadata": {},
   "outputs": [],
   "source": [
    "import sympy as sp\n",
    "from sympy.abc import x"
   ]
  },
  {
   "cell_type": "code",
   "execution_count": null,
   "id": "7cf2562b",
   "metadata": {},
   "outputs": [],
   "source": [
    "sp.Poly(reversed(nppoly.coef),x).as_expr()"
   ]
  }
 ],
 "metadata": {
  "kernelspec": {
   "display_name": "Python 3 (ipykernel)",
   "language": "python",
   "name": "python3"
  },
  "language_info": {
   "codemirror_mode": {
    "name": "ipython",
    "version": 3
   },
   "file_extension": ".py",
   "mimetype": "text/x-python",
   "name": "python",
   "nbconvert_exporter": "python",
   "pygments_lexer": "ipython3",
   "version": "3.8.10"
  }
 },
 "nbformat": 4,
 "nbformat_minor": 5
}
